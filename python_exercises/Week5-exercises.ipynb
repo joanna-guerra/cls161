{
 "cells": [
  {
   "cell_type": "markdown",
   "id": "45dd21c6",
   "metadata": {},
   "source": [
    "# Chapter 6\n"
   ]
  },
  {
   "cell_type": "markdown",
   "id": "0ba8504f",
   "metadata": {},
   "source": [
    "## 6.1\n"
   ]
  },
  {
   "cell_type": "code",
   "execution_count": 8,
   "id": "c6943f20",
   "metadata": {},
   "outputs": [
    {
     "name": "stdout",
     "output_type": "stream",
     "text": [
      "{'first_name': 'John', 'last_name': 'Smith', 'age': '30', 'city': 'Boston'}\n"
     ]
    }
   ],
   "source": [
    "oneperson = {\n",
    "    \"first_name\" : \"John\",\n",
    "    \"last_name\" : \"Smith\",\n",
    "    \"age\" : \"30\",\n",
    "    \"city\" : \"Boston\",\n",
    "    \n",
    "}\n",
    "\n",
    "print (oneperson)"
   ]
  },
  {
   "cell_type": "markdown",
   "id": "a7d6cfed",
   "metadata": {},
   "source": [
    "## 6.2 "
   ]
  },
  {
   "cell_type": "code",
   "execution_count": 7,
   "id": "677113cc",
   "metadata": {},
   "outputs": [
    {
     "name": "stdout",
     "output_type": "stream",
     "text": [
      "{'Maya': 35, 'Paul': 42, 'Jenny': 7, 'Mat': 99, 'Dan': 21}\n"
     ]
    }
   ],
   "source": [
    "favorite_numbers = {\n",
    "    \"Maya\" : 35,\n",
    "    \"Paul\" : 42,\n",
    "    \"Jenny\" : 7,\n",
    "    \"Mat\" : 99,\n",
    "    \"Dan\" : 21,\n",
    "}\n",
    "\n",
    "print(favorite_numbers)"
   ]
  },
  {
   "cell_type": "markdown",
   "id": "6bbb9d03",
   "metadata": {},
   "source": [
    "## 6.3"
   ]
  },
  {
   "cell_type": "code",
   "execution_count": 34,
   "id": "70c38881",
   "metadata": {},
   "outputs": [
    {
     "name": "stdout",
     "output_type": "stream",
     "text": [
      "1 - Variable: a variable is a named storage location in Python used to store data values.\n",
      "\n",
      "2 - Conditional Statement: they allow you to execute different blocks of code based on specific conditions.\n",
      "\n",
      "3 - Loop: a loop is a control structure that repeats a block of code multiple times.\n",
      "\n",
      "4 - List: a list is a data structure that can hold a collection of items, which can be of different types.\n",
      "\n",
      "5 - Dictionary: a dictionary is a data structure that stores key-value pairs.\n"
     ]
    }
   ],
   "source": [
    "glossary = {\n",
    "    \"variable\" : \"a variable is a named storage location in Python used to store data values.\",\n",
    "    \"conditional statement\" : \"they allow you to execute different blocks of code based on specific conditions.\",\n",
    "    \"loop\" : \"a loop is a control structure that repeats a block of code multiple times.\",\n",
    "    \"list\" : \"a list is a data structure that can hold a collection of items, which can be of different types.\",\n",
    "    \"dictionary\" : \"a dictionary is a data structure that stores key-value pairs.\",\n",
    "}\n",
    "\n",
    "print(\"1 - Variable: \" + glossary[\"variable\"] + \"\\n\")\n",
    "print(\"2 - Conditional Statement: \" + glossary[\"conditional statement\"] + \"\\n\")\n",
    "print(\"3 - Loop: \" + glossary[\"loop\"] + \"\\n\")\n",
    "print(\"4 - List: \" + glossary[\"list\"] + \"\\n\")\n",
    "print(\"5 - Dictionary: \" + glossary[\"dictionary\"])"
   ]
  },
  {
   "cell_type": "markdown",
   "id": "ab930978",
   "metadata": {},
   "source": [
    "# 6.4"
   ]
  },
  {
   "cell_type": "code",
   "execution_count": 33,
   "id": "3fc4ddfb",
   "metadata": {},
   "outputs": [
    {
     "name": "stdout",
     "output_type": "stream",
     "text": [
      "1 - Variable: a variable is a named storage location in Python used to store data values.\n",
      "\n",
      "2 - Conditional Statement: they allow you to execute different blocks of code based on specific conditions.\n",
      "\n",
      "3 - Loop: a loop is a control structure that repeats a block of code multiple times.\n",
      "\n",
      "4 - List: a list is a data structure that can hold a collection of items, which can be of different types.\n",
      "\n",
      "5 - Dictionary: a dictionary is a data structure that stores key-value pairs.\n",
      "\n",
      "6 - Data Type: it defines the type of data that can be stored in a variable.\n",
      "\n",
      "7 - String: it is used to represent text.\n",
      "\n",
      "8 - Boolean: a data type that represents two values: True and False.\n",
      "\n",
      "9 - Integer: a data type for storing whole numbers.\n",
      "\n",
      "10 - Float: a data type for storing decimal numbers.\n",
      "\n"
     ]
    }
   ],
   "source": [
    "glossary = {\n",
    "    \"variable\" : \"a variable is a named storage location in Python used to store data values.\",\n",
    "    \"conditional statement\" : \"they allow you to execute different blocks of code based on specific conditions.\",\n",
    "    \"loop\" : \"a loop is a control structure that repeats a block of code multiple times.\",\n",
    "    \"list\" : \"a list is a data structure that can hold a collection of items, which can be of different types.\",\n",
    "    \"dictionary\" : \"a dictionary is a data structure that stores key-value pairs.\",\n",
    "    \"data Type\" : \"it defines the type of data that can be stored in a variable.\",\n",
    "    \"string\" : \"it is used to represent text.\",\n",
    "    \"boolean\" : \"a data type that represents two values: True and False.\",\n",
    "    \"integer\" : \"a data type for storing whole numbers.\",\n",
    "    \"float\" : \"a data type for storing decimal numbers.\",\n",
    "}\n",
    "\n",
    "x = 1\n",
    "for key, value in glossary.items():\n",
    "    print(str(x) + \" - \" + key.title() + \": \" + value + \"\\n\")\n",
    "    x = x + 1"
   ]
  },
  {
   "cell_type": "markdown",
   "id": "c35560c0",
   "metadata": {},
   "source": [
    "## 6.5"
   ]
  },
  {
   "cell_type": "code",
   "execution_count": 66,
   "id": "a994dbc4",
   "metadata": {},
   "outputs": [
    {
     "name": "stdout",
     "output_type": "stream",
     "text": [
      "Amazon River runs through Brazil.\n",
      "\n",
      "Yellow River runs through China.\n",
      "\n",
      "Mississippi River runs through the USA.\n",
      "\n"
     ]
    }
   ],
   "source": [
    "rivers = {\n",
    "    \"amazon\" : \"Brazil\",\n",
    "    \"yellow\" : \"China\",\n",
    "    \"mississippi\" : \"the USA\",\n",
    "}\n",
    "\n",
    "for key, value in rivers.items():\n",
    "    print(key.title() + \" River runs through \" + value + \".\\n\")"
   ]
  },
  {
   "cell_type": "code",
   "execution_count": 42,
   "id": "cc14cce2",
   "metadata": {},
   "outputs": [
    {
     "name": "stdout",
     "output_type": "stream",
     "text": [
      "Amazon\n",
      "Yellow\n",
      "Mississippi\n"
     ]
    }
   ],
   "source": [
    "rivers = {\n",
    "    \"amazon\" : \"Brazil\",\n",
    "    \"yellow\" : \"China\",\n",
    "    \"mississippi\" : \"the USA\",\n",
    "}\n",
    "\n",
    "for key in rivers.keys():\n",
    "    print(key.title())"
   ]
  },
  {
   "cell_type": "code",
   "execution_count": 45,
   "id": "f1a2397c",
   "metadata": {},
   "outputs": [
    {
     "name": "stdout",
     "output_type": "stream",
     "text": [
      "Brazil\n",
      "China\n",
      "the USA\n"
     ]
    }
   ],
   "source": [
    "rivers = {\n",
    "    \"amazon\" : \"Brazil\",\n",
    "    \"yellow\" : \"China\",\n",
    "    \"mississippi\" : \"the USA\",\n",
    "}\n",
    "\n",
    "for value in rivers.values():\n",
    "    print(value)"
   ]
  },
  {
   "cell_type": "markdown",
   "id": "0ec8b1ae",
   "metadata": {},
   "source": [
    "## 6.7"
   ]
  },
  {
   "cell_type": "code",
   "execution_count": 51,
   "id": "32b1c49e",
   "metadata": {},
   "outputs": [
    {
     "name": "stdout",
     "output_type": "stream",
     "text": [
      "\n",
      "First name: John\n",
      "Last name: Smith\n",
      "Age: 30\n",
      "City: Boston\n",
      "\n",
      "First name: Anna\n",
      "Last name: Johnson\n",
      "Age: 32\n",
      "City: Medford\n",
      "\n",
      "First name: Kathy\n",
      "Last name: Williams\n",
      "Age: 27\n",
      "City: New York\n"
     ]
    }
   ],
   "source": [
    "people = {\n",
    "    \n",
    "    \"jsmith\" : {\n",
    "    \"first_name\" : \"John\",\n",
    "    \"last_name\" : \"Smith\",\n",
    "    \"age\" : \"30\",\n",
    "    \"city\" : \"Boston\",\n",
    "    },\n",
    "    \n",
    "    \"ajohnson\" : {\n",
    "    \"first_name\" : \"Anna\",\n",
    "    \"last_name\" : \"Johnson\",\n",
    "    \"age\" : \"32\",\n",
    "    \"city\" : \"Medford\",\n",
    "    },\n",
    "    \n",
    "    \"kwilliams\" : {\n",
    "    \"first_name\" : \"Kathy\",\n",
    "    \"last_name\" : \"Williams\",\n",
    "    \"age\" : \"27\",\n",
    "    \"city\" : \"New York\",\n",
    "    },\n",
    "    \n",
    "}\n",
    "\n",
    "for person, info in people.items():\n",
    "    print(\"\\nFirst name: \" + info['first_name'])\n",
    "    print(\"Last name: \" + info['last_name'])\n",
    "    print(\"Age: \" + info['age'])\n",
    "    print(\"City: \" + info['city'])"
   ]
  },
  {
   "cell_type": "markdown",
   "id": "e589df29",
   "metadata": {},
   "source": [
    "## 6.8"
   ]
  },
  {
   "cell_type": "code",
   "execution_count": 57,
   "id": "aa69fcbb",
   "metadata": {},
   "outputs": [
    {
     "name": "stdout",
     "output_type": "stream",
     "text": [
      "\n",
      "Name: Lincoln\n",
      "Kind: Bulldog\n",
      "Owner: Kathy\n",
      "\n",
      "Name: Lindsay\n",
      "Kind: Hamster\n",
      "Owner: Will\n",
      "\n",
      "Name: Berry\n",
      "Kind: Cat\n",
      "Owner: Alice\n",
      "\n",
      "Name: Coco\n",
      "Kind: Parrot\n",
      "Owner: Anna\n",
      "\n",
      "Name: Rex\n",
      "Kind: Spider\n",
      "Owner: John\n"
     ]
    }
   ],
   "source": [
    "pets = {\n",
    "    \n",
    "    \"lincoln\" : {\n",
    "        \"kind\" : \"bulldog\",\n",
    "        \"owner\" : \"kathy\",\n",
    "    },\n",
    "    \n",
    "    \"lindsay\" : {\n",
    "        \"kind\" : \"hamster\",\n",
    "        \"owner\" : \"will\",\n",
    "    },\n",
    "    \n",
    "    \"berry\" : {\n",
    "        \"kind\" : \"cat\",\n",
    "        \"owner\" : \"alice\",\n",
    "    },\n",
    "    \n",
    "    \"coco\" : {\n",
    "        \"kind\" : \"parrot\",\n",
    "        \"owner\" : \"anna\",\n",
    "    },\n",
    "    \n",
    "    \"rex\" : {\n",
    "        \"kind\" : \"spider\",\n",
    "        \"owner\" : \"john\",\n",
    "    },\n",
    "}\n",
    "\n",
    "for pet, info in pets.items():\n",
    "    print(\"\\nName: \" + pet.title())\n",
    "    print(\"Kind: \" + info[\"kind\"].title())\n",
    "    print(\"Owner: \" + info[\"owner\"].title())"
   ]
  },
  {
   "cell_type": "markdown",
   "id": "ff0173d6",
   "metadata": {},
   "source": [
    "## 6.9 "
   ]
  },
  {
   "cell_type": "code",
   "execution_count": 59,
   "id": "9f625ae5",
   "metadata": {},
   "outputs": [
    {
     "name": "stdout",
     "output_type": "stream",
     "text": [
      "\n",
      "Anna's favorite places are: \n",
      "Medford\n",
      "Somerville\n",
      "Cape Cod\n",
      "\n",
      "Will's favorite places are: \n",
      "San Francisco\n",
      "Los Angeles\n",
      "\n",
      "John's favorite places are: \n",
      "Toronto\n",
      "Vancouver\n"
     ]
    }
   ],
   "source": [
    "favorite_places = {\n",
    "    \n",
    "    \"Anna\" : [\"Medford\", \"Somerville\", \"Cape Cod\"],\n",
    "    \"Will\" : [\"San Francisco\", \"Los Angeles\"],\n",
    "    \"John\" : [\"Toronto\", \"Vancouver\"],\n",
    "}\n",
    "\n",
    "for name, places in favorite_places.items():\n",
    "    print(\"\\n\" + name + \"'s favorite places are: \")\n",
    "    for place in places:\n",
    "        print(place)"
   ]
  },
  {
   "cell_type": "markdown",
   "id": "0abfa2ef",
   "metadata": {},
   "source": [
    "## 6.11"
   ]
  },
  {
   "cell_type": "code",
   "execution_count": 65,
   "id": "7f74f346",
   "metadata": {},
   "outputs": [
    {
     "name": "stdout",
     "output_type": "stream",
     "text": [
      "\n",
      "City: Sao Paulo\n",
      "Country: Brazil\n",
      "Population: 12300000\n",
      "Fact: It is the largest city of the southern hemisphere.\n",
      "\n",
      "City: Buenos Aires\n",
      "Country: Argentina\n",
      "Population: 2900000\n",
      "Fact: It has a very strong passion for tango music and dance.\n",
      "\n",
      "City: Bogota\n",
      "Country: Colombia\n",
      "Population: 7400000\n",
      "Fact: It is known by its extensive and well-regarded network of bicycle paths and lanes.\n"
     ]
    }
   ],
   "source": [
    "cities = {\n",
    "    \n",
    "    \"sao paulo\" : {\n",
    "        \"country\" : \"Brazil\",\n",
    "        \"population\" : 12300000,\n",
    "        \"fact\" : \"It is the largest city of the southern hemisphere.\",\n",
    "    },\n",
    "    \n",
    "    \"buenos aires\" : {\n",
    "        \"country\" : \"Argentina\",\n",
    "        \"population\" : 2900000,\n",
    "        \"fact\" : \"It has a very strong passion for tango music and dance.\",\n",
    "    },\n",
    "    \n",
    "    \"bogota\" : {\n",
    "        \"country\" : \"Colombia\",\n",
    "        \"population\" : 7400000,\n",
    "        \"fact\" : \"It is known by its extensive and well-regarded network of bicycle paths and lanes.\",\n",
    "    },\n",
    "    \n",
    "}\n",
    "\n",
    "for city, info in cities.items():\n",
    "    print(\"\\nCity: \" + city.title())\n",
    "    print(\"Country: \" + info[\"country\"].title())\n",
    "    print(\"Population: \" + str(info[\"population\"]))\n",
    "    print(\"Fact: \" + info[\"fact\"])\n",
    "\n"
   ]
  },
  {
   "cell_type": "code",
   "execution_count": null,
   "id": "336003b6",
   "metadata": {},
   "outputs": [],
   "source": []
  }
 ],
 "metadata": {
  "kernelspec": {
   "display_name": "Python 3 (ipykernel)",
   "language": "python",
   "name": "python3"
  },
  "language_info": {
   "codemirror_mode": {
    "name": "ipython",
    "version": 3
   },
   "file_extension": ".py",
   "mimetype": "text/x-python",
   "name": "python",
   "nbconvert_exporter": "python",
   "pygments_lexer": "ipython3",
   "version": "3.11.4"
  }
 },
 "nbformat": 4,
 "nbformat_minor": 5
}
