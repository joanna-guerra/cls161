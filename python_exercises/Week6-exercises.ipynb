{
 "cells": [
  {
   "cell_type": "markdown",
   "id": "f116cc37",
   "metadata": {},
   "source": [
    "# Chapter 8"
   ]
  },
  {
   "cell_type": "markdown",
   "id": "6649ad96",
   "metadata": {},
   "source": [
    "## 8.1"
   ]
  },
  {
   "cell_type": "code",
   "execution_count": 3,
   "id": "98663441",
   "metadata": {},
   "outputs": [
    {
     "name": "stdout",
     "output_type": "stream",
     "text": [
      "In chapter 8, we are learning about the importance of functions in coding and how to use them.\n"
     ]
    }
   ],
   "source": [
    "def display_message():\n",
    "    print(\"In chapter 8, we are learning about the importance of functions in coding and how to use them.\")\n",
    "    \n",
    "display_message()"
   ]
  },
  {
   "cell_type": "markdown",
   "id": "74574a6a",
   "metadata": {},
   "source": [
    "## 8.2"
   ]
  },
  {
   "cell_type": "code",
   "execution_count": 4,
   "id": "ffd41d6e",
   "metadata": {},
   "outputs": [
    {
     "name": "stdout",
     "output_type": "stream",
     "text": [
      "My favorite book of all times is Romeo And Juliet!\n"
     ]
    }
   ],
   "source": [
    "def favorite_book(book):\n",
    "    print(\"My favorite book of all times is \" + book.title() + \"!\")\n",
    "    \n",
    "favorite_book(\"Romeo and Juliet\")"
   ]
  },
  {
   "cell_type": "markdown",
   "id": "87ec61c4",
   "metadata": {},
   "source": [
    "## 8.3"
   ]
  },
  {
   "cell_type": "code",
   "execution_count": 14,
   "id": "26323cb4",
   "metadata": {},
   "outputs": [
    {
     "name": "stdout",
     "output_type": "stream",
     "text": [
      "I'm making a large shirt with the message 'I love NY'.\n",
      "I'm making a medium shirt with the message 'Keep Calm and Eat Ice Cream'.\n"
     ]
    }
   ],
   "source": [
    "def make_shirt(size, text):\n",
    "    print(\"I'm making a \" + size + \" shirt with the message \\'\" + text + \"\\'.\")\n",
    "    \n",
    "# Calling the function using positional arguments\n",
    "make_shirt(\"large\", \"I love NY\")\n",
    "\n",
    "# Calling the function using keyword arguments\n",
    "make_shirt(size=\"medium\", text=\"Keep Calm and Eat Ice Cream\")"
   ]
  },
  {
   "cell_type": "markdown",
   "id": "c15341b8",
   "metadata": {},
   "source": [
    "## 8.5"
   ]
  },
  {
   "cell_type": "code",
   "execution_count": 17,
   "id": "31fc0cf3",
   "metadata": {},
   "outputs": [
    {
     "name": "stdout",
     "output_type": "stream",
     "text": [
      "Mexico City is a city in Mexico.\n",
      "Lisbon is a city in Portugal.\n",
      "Sidney is a city in Australia.\n"
     ]
    }
   ],
   "source": [
    "def describe_city(city, country=\"Australia\"):\n",
    "    print(city + \" is a city in \" + country + \".\")\n",
    "    \n",
    "describe_city(\"Mexico City\", \"Mexico\")\n",
    "describe_city(\"Lisbon\", \"Portugal\")\n",
    "describe_city(\"Sidney\")"
   ]
  },
  {
   "cell_type": "markdown",
   "id": "f85088b3",
   "metadata": {},
   "source": [
    "## 8.6 "
   ]
  },
  {
   "cell_type": "code",
   "execution_count": 19,
   "id": "714559ff",
   "metadata": {},
   "outputs": [
    {
     "name": "stdout",
     "output_type": "stream",
     "text": [
      "Vancouver, Canada\n",
      "Los Angeles, United States\n",
      "Madrid, Spain\n"
     ]
    }
   ],
   "source": [
    "def city_country(city, country):\n",
    "    location = city + \", \" + country\n",
    "    return location\n",
    "\n",
    "print(city_country(\"Vancouver\", \"Canada\"))\n",
    "print(city_country(\"Los Angeles\", \"United States\"))\n",
    "print(city_country(\"Madrid\", \"Spain\"))"
   ]
  },
  {
   "cell_type": "markdown",
   "id": "9c4fcbc0",
   "metadata": {},
   "source": [
    "## 8.7"
   ]
  },
  {
   "cell_type": "code",
   "execution_count": 23,
   "id": "0833a83a",
   "metadata": {},
   "outputs": [
    {
     "name": "stdout",
     "output_type": "stream",
     "text": [
      "{'artist': 'Adele', 'album_title': '30'}\n",
      "{'artist': 'Queen', 'album_title': 'A Night At The Opera'}\n",
      "{'artist': 'Coldplay', 'album_title': 'A Head Full of Dreams', 'num_tracks': 11}\n"
     ]
    }
   ],
   "source": [
    "def make_album(artist_name, album_title, num_tracks=None):\n",
    "    album = {\n",
    "        \"artist\" : artist_name,\n",
    "        \"album_title\" : album_title,\n",
    "    }\n",
    "    \n",
    "    if num_tracks != None:\n",
    "        album[\"num_tracks\"] = num_tracks\n",
    "        \n",
    "    return album\n",
    "    \n",
    "album1 = make_album(\"Adele\",\"30\")\n",
    "album2 = make_album(\"Queen\",\"A Night At The Opera\")\n",
    "album3 = make_album(\"Coldplay\",\"A Head Full of Dreams\",11)\n",
    "\n",
    "print(album1)\n",
    "print(album2)\n",
    "print(album3)"
   ]
  },
  {
   "cell_type": "code",
   "execution_count": null,
   "id": "cb8448ba",
   "metadata": {},
   "outputs": [],
   "source": []
  }
 ],
 "metadata": {
  "kernelspec": {
   "display_name": "Python 3 (ipykernel)",
   "language": "python",
   "name": "python3"
  },
  "language_info": {
   "codemirror_mode": {
    "name": "ipython",
    "version": 3
   },
   "file_extension": ".py",
   "mimetype": "text/x-python",
   "name": "python",
   "nbconvert_exporter": "python",
   "pygments_lexer": "ipython3",
   "version": "3.11.4"
  }
 },
 "nbformat": 4,
 "nbformat_minor": 5
}
