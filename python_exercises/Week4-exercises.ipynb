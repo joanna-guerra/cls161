{
 "cells": [
  {
   "cell_type": "markdown",
   "id": "55e1e878",
   "metadata": {},
   "source": [
    "# Chapter 5"
   ]
  },
  {
   "cell_type": "markdown",
   "id": "87fb656b",
   "metadata": {},
   "source": [
    "## 5.1"
   ]
  },
  {
   "cell_type": "code",
   "execution_count": 30,
   "id": "260ca105",
   "metadata": {},
   "outputs": [
    {
     "name": "stdout",
     "output_type": "stream",
     "text": [
      "Is color != 'Blue'? I predict False.\n",
      "False\n",
      "Is color == 'Blue'? I predict True.\n",
      "True\n",
      "\n",
      "\n",
      "Is color == 'red'? I predict False.\n",
      "False\n",
      "Is color == 'Red'? I predict True.\n",
      "True\n",
      "\n",
      "\n",
      "Is number == 5? I predict False.\n",
      "False\n",
      "Is number == 58? I predict True.\n",
      "True\n",
      "\n",
      "\n",
      "Is color == 'Pink'? I predict False.\n",
      "False\n",
      "Is color == 'Black'? I predict True.\n",
      "True\n",
      "\n",
      "\n",
      "Is number > 0? I predict False.\n",
      "False\n",
      "Is number >= 0? I predict True.\n",
      "True\n"
     ]
    }
   ],
   "source": [
    "#test 1\n",
    "color = \"Blue\"\n",
    "print(\"Is color != \\'Blue'? I predict False.\")\n",
    "print(color != \"Blue\")\n",
    "\n",
    "#test 2\n",
    "print(\"Is color == \\'Blue'? I predict True.\")\n",
    "print(color == \"Blue\")\n",
    "\n",
    "#test 3\n",
    "print(\"\\n\")\n",
    "color = \"Red\"\n",
    "print(\"Is color == \\'red'? I predict False.\")\n",
    "print(color == \"red\")\n",
    "\n",
    "#test 4\n",
    "print(\"Is color == \\'Red'? I predict True.\")\n",
    "print(color == \"Red\")\n",
    "\n",
    "#test 5\n",
    "print(\"\\n\")\n",
    "number = 58\n",
    "print(\"Is number == 5? I predict False.\")\n",
    "print(number == 5)\n",
    "\n",
    "#test 6\n",
    "print(\"Is number == 58? I predict True.\")\n",
    "print(number == 58)\n",
    "\n",
    "#test 7\n",
    "print(\"\\n\")\n",
    "color = \"Black\"\n",
    "print(\"Is color == \\'Pink'? I predict False.\")\n",
    "print(color == \"Pink\")\n",
    "\n",
    "#test 8\n",
    "print(\"Is color == \\'Black'? I predict True.\")\n",
    "print(color == \"Black\")\n",
    "\n",
    "#test 9\n",
    "print(\"\\n\")\n",
    "number = 0\n",
    "print(\"Is number > 0? I predict False.\")\n",
    "print(number > 0)\n",
    "\n",
    "#test 10\n",
    "number = 0\n",
    "print(\"Is number >= 0? I predict True.\")\n",
    "print(number >= 0)"
   ]
  },
  {
   "cell_type": "markdown",
   "id": "0261d037",
   "metadata": {},
   "source": [
    "## 5.2"
   ]
  },
  {
   "cell_type": "code",
   "execution_count": 25,
   "id": "b4ea95cd",
   "metadata": {},
   "outputs": [
    {
     "name": "stdout",
     "output_type": "stream",
     "text": [
      "Is food == 'pizza'? I predict True.\n",
      "True\n",
      "Is food != 'pizza'? I predict False.\n",
      "False\n"
     ]
    }
   ],
   "source": [
    "#Tests for equality and inequality with strings\n",
    "\n",
    "food = \"pizza\"\n",
    "print(\"Is food == \\'pizza'? I predict True.\")\n",
    "print(food == \"pizza\")\n",
    "\n",
    "print(\"Is food != \\'pizza'? I predict False.\")\n",
    "print(food != \"pizza\")"
   ]
  },
  {
   "cell_type": "code",
   "execution_count": 58,
   "id": "eddb30dc",
   "metadata": {},
   "outputs": [
    {
     "name": "stdout",
     "output_type": "stream",
     "text": [
      "Is company.lower() == 'google'? I predict True.\n",
      "True\n",
      "Is company.lower() != 'google'? I predict False.\n",
      "False\n"
     ]
    }
   ],
   "source": [
    "#Tests using the lower() function\n",
    "\n",
    "company = \"Google\"\n",
    "print(\"Is company.lower() == \\'google'? I predict True.\")\n",
    "print(company.lower() == \"google\")\n",
    "\n",
    "print(\"Is company.lower() != \\'google'? I predict False.\")\n",
    "print(food.lower() == \"google\")"
   ]
  },
  {
   "cell_type": "code",
   "execution_count": 36,
   "id": "b0e01506",
   "metadata": {},
   "outputs": [
    {
     "name": "stdout",
     "output_type": "stream",
     "text": [
      "Is number > 0? I predict True.\n",
      "True\n",
      "Is number == 0? I predict False.\n",
      "False\n"
     ]
    }
   ],
   "source": [
    "# Numerical tests involving equality and inequality, greater than and less than, greater than or equal to, and less than or equal to\n",
    "\n",
    "number = 2389029023\n",
    "print(\"Is number > 0? I predict True.\")\n",
    "print(number > 0)\n",
    "\n",
    "print(\"Is number == 0? I predict False.\")\n",
    "print(number == 0)\n"
   ]
  },
  {
   "cell_type": "code",
   "execution_count": 38,
   "id": "02550712",
   "metadata": {},
   "outputs": [
    {
     "name": "stdout",
     "output_type": "stream",
     "text": [
      "Is number > 5 and number < 60? I predict True.\n",
      "True\n",
      "Is number > 60 or number < 50? I predict False.\n",
      "False\n"
     ]
    }
   ],
   "source": [
    "# Tests using the and keyword and the or keyword\n",
    "\n",
    "number = 58\n",
    "print(\"Is number > 5 and number < 60? I predict True.\")\n",
    "print(number > 5 and number < 60)\n",
    "\n",
    "print(\"Is number > 60 or number < 50? I predict False.\")\n",
    "print(number > 60 or number < 50)"
   ]
  },
  {
   "cell_type": "code",
   "execution_count": 41,
   "id": "57650fdd",
   "metadata": {},
   "outputs": [
    {
     "name": "stdout",
     "output_type": "stream",
     "text": [
      "Is 'White' in colors? I predict True.\n",
      "True\n",
      "Is 'Black' in colors? I predict False.\n",
      "False\n"
     ]
    }
   ],
   "source": [
    "# Test whether an item is in a list\n",
    "\n",
    "colors = [\"Blue\",\"Red\",\"White\"]\n",
    "print(\"Is \\'White' in colors? I predict True.\")\n",
    "print(\"White\" in colors)\n",
    "\n",
    "print(\"Is \\'Black' in colors? I predict False.\")\n",
    "print(\"Black\" in colors)"
   ]
  },
  {
   "cell_type": "code",
   "execution_count": 43,
   "id": "84b5536c",
   "metadata": {},
   "outputs": [
    {
     "name": "stdout",
     "output_type": "stream",
     "text": [
      "Is 'Black' not in colors? I predict True.\n",
      "True\n",
      "Is 'White' not in colors? I predict False.\n",
      "False\n"
     ]
    }
   ],
   "source": [
    "# Test whether an item is not in a list\n",
    "\n",
    "colors = [\"Blue\",\"Red\",\"White\"]\n",
    "print(\"Is \\'Black' not in colors? I predict True.\")\n",
    "print(\"Black\" not in colors)\n",
    "\n",
    "print(\"Is \\'White' not in colors? I predict False.\")\n",
    "print(\"White\" not in colors)"
   ]
  },
  {
   "cell_type": "markdown",
   "id": "44e32d61",
   "metadata": {},
   "source": [
    "## 5.6\n"
   ]
  },
  {
   "cell_type": "code",
   "execution_count": 44,
   "id": "698d7956",
   "metadata": {},
   "outputs": [
    {
     "name": "stdout",
     "output_type": "stream",
     "text": [
      "This person is an adult.\n"
     ]
    }
   ],
   "source": [
    "age = 55\n",
    "\n",
    "if age < 2:\n",
    "    print(\"This person is a baby.\")\n",
    "elif age >= 2 and age < 4:\n",
    "    print(\"This person is a toddler.\")\n",
    "elif age >= 4 and age < 13:\n",
    "    print(\"This person is a kid.\")\n",
    "elif age >= 13 and age < 20:\n",
    "    print(\"This person is a teenager.\")\n",
    "elif age >= 20 and age < 65:\n",
    "    print(\"This person is an adult.\")\n",
    "elif age >= 65:\n",
    "    print(\"This person is an elder.\")"
   ]
  },
  {
   "cell_type": "markdown",
   "id": "50bf3fd6",
   "metadata": {},
   "source": [
    "## 5.7\n"
   ]
  },
  {
   "cell_type": "code",
   "execution_count": 47,
   "id": "83b966c9",
   "metadata": {},
   "outputs": [
    {
     "name": "stdout",
     "output_type": "stream",
     "text": [
      "You really like pineapples!\n",
      "You really like papayas!\n"
     ]
    }
   ],
   "source": [
    "favorite_fruits = [\"bananas\",\"papayas\",\"pineapples\"]\n",
    "\n",
    "if \"strawberries\" in favorite_fruits:\n",
    "    print(\"You really like strawberries!\")\n",
    "    \n",
    "if \"pineapples\" in favorite_fruits:\n",
    "    print(\"You really like pineapples!\")\n",
    "    \n",
    "if \"oranges\" in favorite_fruits:\n",
    "    print(\"You really like oranges!\")\n",
    "    \n",
    "if \"peaches\" in favorite_fruits:\n",
    "    print(\"You really like peaches!\")\n",
    "\n",
    "if \"papayas\" in favorite_fruits:\n",
    "    print(\"You really like papayas!\")"
   ]
  },
  {
   "cell_type": "markdown",
   "id": "a8881c40",
   "metadata": {},
   "source": [
    "## 5.8"
   ]
  },
  {
   "cell_type": "code",
   "execution_count": 55,
   "id": "3e6f6dcb",
   "metadata": {},
   "outputs": [
    {
     "name": "stdout",
     "output_type": "stream",
     "text": [
      "Hello admin, would you like to see a status report?\n",
      "Hello joanna, thank you for logging in again.\n",
      "Hello paul, thank you for logging in again.\n",
      "Hello matt, thank you for logging in again.\n",
      "Hello will, thank you for logging in again.\n"
     ]
    }
   ],
   "source": [
    "usernames = [\"admin\",\"joanna\",\"paul\",\"matt\",\"will\"]\n",
    "\n",
    "for username in usernames:\n",
    "    if username == \"admin\":\n",
    "        print(\"Hello \" + username + \", would you like to see a status report?\")\n",
    "    else:\n",
    "        print(\"Hello \" + username + \", thank you for logging in again.\")"
   ]
  },
  {
   "cell_type": "markdown",
   "id": "d23be334",
   "metadata": {},
   "source": [
    "## 5.9"
   ]
  },
  {
   "cell_type": "code",
   "execution_count": 51,
   "id": "1ffe8b94",
   "metadata": {},
   "outputs": [
    {
     "name": "stdout",
     "output_type": "stream",
     "text": [
      "We need to find some users!\n"
     ]
    }
   ],
   "source": [
    "usernames = []\n",
    "\n",
    "if usernames:\n",
    "    for username in usernames:\n",
    "        if username == \"admin\":\n",
    "            print(\"Hello \" + username + \", would you like to see a status report?\")\n",
    "        else:\n",
    "            print(\"Hello \" + username + \", thank you for logging in again.\")\n",
    "else:\n",
    "    print(\"We need to find some users!\")"
   ]
  },
  {
   "cell_type": "markdown",
   "id": "73b70a88",
   "metadata": {},
   "source": [
    "## 5.10\n"
   ]
  },
  {
   "cell_type": "code",
   "execution_count": 57,
   "id": "3bdea42c",
   "metadata": {},
   "outputs": [
    {
     "name": "stdout",
     "output_type": "stream",
     "text": [
      "Username is available.\n",
      "Username is available.\n",
      "Username is not available. Please, choose a new one.\n",
      "Username is not available. Please, choose a new one.\n",
      "Username is available.\n"
     ]
    }
   ],
   "source": [
    "current_users = [\"admin\",\"joanna\",\"paul\",\"matt\",\"will\"]\n",
    "\n",
    "new_users = [\"peter\",\"john\",\"JOANNA\",\"admin\",\"francis\"]\n",
    "\n",
    "for new_user in new_users:\n",
    "    if new_user.lower() in current_users:\n",
    "        print(\"Username is not available. Please, choose a new one.\")\n",
    "    else:\n",
    "        print(\"Username is available.\")"
   ]
  },
  {
   "cell_type": "code",
   "execution_count": null,
   "id": "0d1b5276",
   "metadata": {},
   "outputs": [],
   "source": []
  }
 ],
 "metadata": {
  "kernelspec": {
   "display_name": "Python 3 (ipykernel)",
   "language": "python",
   "name": "python3"
  },
  "language_info": {
   "codemirror_mode": {
    "name": "ipython",
    "version": 3
   },
   "file_extension": ".py",
   "mimetype": "text/x-python",
   "name": "python",
   "nbconvert_exporter": "python",
   "pygments_lexer": "ipython3",
   "version": "3.11.4"
  }
 },
 "nbformat": 4,
 "nbformat_minor": 5
}
