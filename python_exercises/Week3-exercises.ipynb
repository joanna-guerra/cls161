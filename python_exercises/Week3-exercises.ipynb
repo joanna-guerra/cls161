{
 "cells": [
  {
   "cell_type": "markdown",
   "id": "52901c43",
   "metadata": {},
   "source": [
    "# Chapter 2"
   ]
  },
  {
   "cell_type": "markdown",
   "id": "1a1d7f32",
   "metadata": {},
   "source": [
    "2.1:"
   ]
  },
  {
   "cell_type": "code",
   "execution_count": 5,
   "id": "7e7df1d8",
   "metadata": {},
   "outputs": [
    {
     "name": "stdout",
     "output_type": "stream",
     "text": [
      "Programming is cool\n"
     ]
    }
   ],
   "source": [
    "x = \"Programming is cool\"\n",
    "print(x)"
   ]
  },
  {
   "cell_type": "markdown",
   "id": "3a65389c",
   "metadata": {},
   "source": [
    "2.2:"
   ]
  },
  {
   "cell_type": "code",
   "execution_count": 3,
   "id": "c532affc",
   "metadata": {},
   "outputs": [
    {
     "name": "stdout",
     "output_type": "stream",
     "text": [
      "Programming is cool\n",
      "C++ is a hard programming language\n"
     ]
    }
   ],
   "source": [
    "x = \"Programming is cool\"\n",
    "print(x)\n",
    "x = \"C++ is a hard programming language\"\n",
    "print(x)"
   ]
  },
  {
   "cell_type": "markdown",
   "id": "5a4a302d",
   "metadata": {},
   "source": [
    "2.3:"
   ]
  },
  {
   "cell_type": "code",
   "execution_count": 4,
   "id": "ca64413e",
   "metadata": {},
   "outputs": [
    {
     "name": "stdout",
     "output_type": "stream",
     "text": [
      "Hey Julia! Would you like to go for a walk?\n"
     ]
    }
   ],
   "source": [
    "name = \"Julia\"\n",
    "print(\"Hey \" + name + \"! Would you like to go for a walk?\")"
   ]
  },
  {
   "cell_type": "markdown",
   "id": "b31a997b",
   "metadata": {},
   "source": [
    "2.4:"
   ]
  },
  {
   "cell_type": "code",
   "execution_count": 6,
   "id": "55c7ffaf",
   "metadata": {},
   "outputs": [
    {
     "name": "stdout",
     "output_type": "stream",
     "text": [
      "alan turing\n",
      "ALAN TURING\n",
      "Alan Turing\n"
     ]
    }
   ],
   "source": [
    "name = \"alan turing\"\n",
    "print(name.lower())\n",
    "print(name.upper())\n",
    "print(name.title())"
   ]
  },
  {
   "cell_type": "markdown",
   "id": "56a2bcf1",
   "metadata": {},
   "source": [
    "2.5:"
   ]
  },
  {
   "cell_type": "code",
   "execution_count": 14,
   "id": "66f39d0a",
   "metadata": {},
   "outputs": [
    {
     "name": "stdout",
     "output_type": "stream",
     "text": [
      "Steve Jobs once said, \"I'm convinced that about half of what separates successful entrepreneurs from the non-successful ones is pure perseverance.\"\n"
     ]
    }
   ],
   "source": [
    "print(\"Steve Jobs once said, \\\"I'm convinced that about half of what separates successful entrepreneurs from the non-successful ones is pure perseverance.\\\"\")"
   ]
  },
  {
   "cell_type": "markdown",
   "id": "31f71de3",
   "metadata": {},
   "source": [
    "2.6:"
   ]
  },
  {
   "cell_type": "code",
   "execution_count": 15,
   "id": "beefd9f6",
   "metadata": {},
   "outputs": [
    {
     "name": "stdout",
     "output_type": "stream",
     "text": [
      "Steve Jobs once said, \"I'm convinced that about half of what separates successful entrepreneurs from the non-successful ones is pure perseverance.\"\n"
     ]
    }
   ],
   "source": [
    "famousperson = \"Steve Jobs\"\n",
    "message = \"\\\"I'm convinced that about half of what separates successful entrepreneurs from the non-successful ones is pure perseverance.\\\"\"\n",
    "print(author + \" once said, \" + message)"
   ]
  },
  {
   "cell_type": "markdown",
   "id": "87ab4f60",
   "metadata": {},
   "source": [
    "2.7:"
   ]
  },
  {
   "cell_type": "code",
   "execution_count": 30,
   "id": "172af99f",
   "metadata": {},
   "outputs": [
    {
     "name": "stdout",
     "output_type": "stream",
     "text": [
      " \tSteve\n",
      "\n",
      "Steve\n",
      "\n",
      " \tSteve\n",
      "Steve\n"
     ]
    }
   ],
   "source": [
    "name = \" \\tSteve\\n\"\n",
    "print(name)\n",
    "print(name.lstrip())\n",
    "print(name.rstrip())\n",
    "print(name.strip())"
   ]
  },
  {
   "cell_type": "markdown",
   "id": "3813e761",
   "metadata": {},
   "source": [
    "2.10:"
   ]
  },
  {
   "cell_type": "code",
   "execution_count": 31,
   "id": "c0a3746f",
   "metadata": {},
   "outputs": [
    {
     "name": "stdout",
     "output_type": "stream",
     "text": [
      "Programming is cool\n"
     ]
    }
   ],
   "source": [
    "# Joanna Guerra - 09/23/23 - Storing name in a variable and printing it\n",
    "x = \"Programming is cool\"\n",
    "print(x)"
   ]
  },
  {
   "cell_type": "code",
   "execution_count": 33,
   "id": "b16298cf",
   "metadata": {},
   "outputs": [
    {
     "name": "stdout",
     "output_type": "stream",
     "text": [
      "alan turing\n",
      "ALAN TURING\n",
      "Alan Turing\n"
     ]
    }
   ],
   "source": [
    "# Joanna Guerra - 09/23/23 - Storing name in a variable and printing it in lowercase, uppercase and title formats\n",
    "name = \"alan turing\"\n",
    "print(name.lower())\n",
    "print(name.upper())\n",
    "print(name.title())"
   ]
  },
  {
   "cell_type": "markdown",
   "id": "5b6d5ab5",
   "metadata": {},
   "source": [
    "# Chapter 3"
   ]
  },
  {
   "cell_type": "markdown",
   "id": "bbf290f8",
   "metadata": {},
   "source": [
    "3.1:"
   ]
  },
  {
   "cell_type": "code",
   "execution_count": 34,
   "id": "b7410acd",
   "metadata": {},
   "outputs": [
    {
     "name": "stdout",
     "output_type": "stream",
     "text": [
      "Matheus\n",
      "Duda\n",
      "Joao\n",
      "Gabi\n"
     ]
    }
   ],
   "source": [
    "friends = [\"Matheus\", \"Duda\", \"Vini\", \"Gabi\"]\n",
    "print(friends[0])\n",
    "print(friends[1])\n",
    "print(friends[2])\n",
    "print(friends[3])"
   ]
  },
  {
   "cell_type": "markdown",
   "id": "e0b22f2e",
   "metadata": {},
   "source": [
    "3.2:"
   ]
  },
  {
   "cell_type": "code",
   "execution_count": 37,
   "id": "dbaf2afb",
   "metadata": {},
   "outputs": [
    {
     "name": "stdout",
     "output_type": "stream",
     "text": [
      "Matheus, you're one of my best friends.\n",
      "Duda, you're one of my best friends.\n",
      "Vini, you're one of my best friends.\n",
      "Gabi, you're one of my best friends.\n"
     ]
    }
   ],
   "source": [
    "friends = [\"Matheus\", \"Duda\", \"Vini\", \"Gabi\"]\n",
    "message = \", you're one of my best friends.\"\n",
    "print(friends[0] + message)\n",
    "print(friends[1] + message)\n",
    "print(friends[2] + message)\n",
    "print(friends[3] + message)"
   ]
  },
  {
   "cell_type": "markdown",
   "id": "2134949d",
   "metadata": {},
   "source": [
    "3.3:"
   ]
  },
  {
   "cell_type": "code",
   "execution_count": 39,
   "id": "29133709",
   "metadata": {},
   "outputs": [
    {
     "name": "stdout",
     "output_type": "stream",
     "text": [
      "I would love to own a car\n",
      "I usually travel by plane\n",
      "Only rich people would own a boat\n",
      "I first rode a bike without training wheels when I was 7 years old\n",
      "I would like to take a train from Boston to NY\n"
     ]
    }
   ],
   "source": [
    "mylist = [\"car\", \"plane\", \"boat\", \"bike\", \"train\"]\n",
    "print(\"I would love to own a \" + mylist[0])\n",
    "print(\"I usually travel by \" + mylist[1])\n",
    "print(\"Only rich people would own a \" + mylist[2])\n",
    "print(\"I first rode a \" + mylist[3] + \" without training wheels when I was 7 years old\")\n",
    "print(\"I would like to take a \" + mylist[4] + \" from Boston to NY\")\n"
   ]
  },
  {
   "cell_type": "markdown",
   "id": "76092111",
   "metadata": {},
   "source": [
    "3.4"
   ]
  },
  {
   "cell_type": "code",
   "execution_count": 41,
   "id": "1fb7a9b1",
   "metadata": {},
   "outputs": [
    {
     "name": "stdout",
     "output_type": "stream",
     "text": [
      "Alan, I would love to have you over for dinner tonight at my place.\n",
      "Ada, I would love to have you over for dinner tonight at my place.\n",
      "Steve, I would love to have you over for dinner tonight at my place.\n"
     ]
    }
   ],
   "source": [
    "guests = [\"Alan\", \"Ada\", \"Steve\"]\n",
    "message = \", I would love to have you over for dinner tonight at my place.\"\n",
    "print(guests[0] + message)\n",
    "print(guests[1] + message)\n",
    "print(guests[2] + message)"
   ]
  },
  {
   "cell_type": "markdown",
   "id": "dc187a4e",
   "metadata": {},
   "source": [
    "3.5"
   ]
  },
  {
   "cell_type": "code",
   "execution_count": 42,
   "id": "c60b8612",
   "metadata": {},
   "outputs": [
    {
     "name": "stdout",
     "output_type": "stream",
     "text": [
      "Alan, I would love to have you over for dinner tonight at my place.\n",
      "Ada, I would love to have you over for dinner tonight at my place.\n",
      "Steve, I would love to have you over for dinner tonight at my place.\n",
      "Unfortunately, Ada cannot come tonight.\n",
      "Alan, I would love to have you over for dinner tonight at my place.\n",
      "Grace, I would love to have you over for dinner tonight at my place.\n",
      "Steve, I would love to have you over for dinner tonight at my place.\n"
     ]
    }
   ],
   "source": [
    "guests = [\"Alan\", \"Ada\", \"Steve\"]\n",
    "message = \", I would love to have you over for dinner tonight at my place.\"\n",
    "print(guests[0] + message)\n",
    "print(guests[1] + message)\n",
    "print(guests[2] + message)\n",
    "print(\"Unfortunately, \" + guests[1] + \" cannot come tonight.\")\n",
    "del guests[1]\n",
    "guests.insert(1,\"Grace\")\n",
    "print(guests[0] + message)\n",
    "print(guests[1] + message)\n",
    "print(guests[2] + message)"
   ]
  },
  {
   "cell_type": "markdown",
   "id": "d6927d08",
   "metadata": {},
   "source": [
    "3.6:"
   ]
  },
  {
   "cell_type": "code",
   "execution_count": 45,
   "id": "2f2a5f0b",
   "metadata": {},
   "outputs": [
    {
     "name": "stdout",
     "output_type": "stream",
     "text": [
      "Alan, I would love to have you over for dinner tonight at my place.\n",
      "Ada, I would love to have you over for dinner tonight at my place.\n",
      "Steve, I would love to have you over for dinner tonight at my place.\n",
      "\n",
      "\n",
      "Alan, I found a bigger dinner table so I'll invite more people.\n",
      "Ada, I found a bigger dinner table so I'll invite more people.\n",
      "Steve, I found a bigger dinner table so I'll invite more people.\n",
      "\n",
      "\n",
      "Grace, I would love to have you over for dinner tonight at my place.\n",
      "Alan, I would love to have you over for dinner tonight at my place.\n",
      "Anita, I would love to have you over for dinner tonight at my place.\n",
      "Ada, I would love to have you over for dinner tonight at my place.\n",
      "Steve, I would love to have you over for dinner tonight at my place.\n",
      "Joy, I would love to have you over for dinner tonight at my place.\n"
     ]
    }
   ],
   "source": [
    "guests = [\"Alan\", \"Ada\", \"Steve\"]\n",
    "message = \", I would love to have you over for dinner tonight at my place.\"\n",
    "print(guests[0] + message)\n",
    "print(guests[1] + message)\n",
    "print(guests[2] + message)\n",
    "news = \", I found a bigger dinner table so I'll invite more people.\"\n",
    "print(\"\\n\")\n",
    "print(guests[0] + news)\n",
    "print(guests[1] + news)\n",
    "print(guests[2] + news)\n",
    "guests.insert(0,\"Grace\")\n",
    "guests.insert(2,\"Anita\")\n",
    "guests.append(\"Joy\")\n",
    "print(\"\\n\")\n",
    "print(guests[0] + message)\n",
    "print(guests[1] + message)\n",
    "print(guests[2] + message)\n",
    "print(guests[3] + message)\n",
    "print(guests[4] + message)\n",
    "print(guests[5] + message)"
   ]
  },
  {
   "cell_type": "markdown",
   "id": "d9b11cf4",
   "metadata": {},
   "source": [
    "3.7"
   ]
  },
  {
   "cell_type": "code",
   "execution_count": 53,
   "id": "895b9eda",
   "metadata": {},
   "outputs": [
    {
     "name": "stdout",
     "output_type": "stream",
     "text": [
      "Alan, I would love to have you over for dinner tonight at my place.\n",
      "Ada, I would love to have you over for dinner tonight at my place.\n",
      "Steve, I would love to have you over for dinner tonight at my place.\n",
      "\n",
      "\n",
      "Alan, I found a bigger dinner table so I'll invite more people.\n",
      "Ada, I found a bigger dinner table so I'll invite more people.\n",
      "Steve, I found a bigger dinner table so I'll invite more people.\n",
      "\n",
      "\n",
      "Grace, I would love to have you over for dinner tonight at my place.\n",
      "Alan, I would love to have you over for dinner tonight at my place.\n",
      "Anita, I would love to have you over for dinner tonight at my place.\n",
      "Ada, I would love to have you over for dinner tonight at my place.\n",
      "Steve, I would love to have you over for dinner tonight at my place.\n",
      "Joy, I would love to have you over for dinner tonight at my place.\n",
      "\n",
      "\n",
      "Oh no! I'll only be able to invite two people for dinner. Sorry about that, Grace.\n",
      "Oh no! I'll only be able to invite two people for dinner. Sorry about that, Alan.\n",
      "Oh no! I'll only be able to invite two people for dinner. Sorry about that, Anita.\n",
      "Oh no! I'll only be able to invite two people for dinner. Sorry about that, Ada.\n",
      "Oh no! I'll only be able to invite two people for dinner. Sorry about that, Steve.\n",
      "Oh no! I'll only be able to invite two people for dinner. Sorry about that, Joy.\n",
      "\n",
      "\n",
      "Joy, sorry! You're not invited to dinner anymore.\n",
      "Steve, sorry! You're not invited to dinner anymore.\n",
      "Ada, sorry! You're not invited to dinner anymore.\n",
      "Anita, sorry! You're not invited to dinner anymore.\n",
      "\n",
      "\n",
      "Grace, I would love to have you over for dinner tonight at my place.\n",
      "Alan, I would love to have you over for dinner tonight at my place.\n",
      "\n",
      "\n",
      "[]\n"
     ]
    }
   ],
   "source": [
    "guests = [\"Alan\", \"Ada\", \"Steve\"]\n",
    "message = \", I would love to have you over for dinner tonight at my place.\"\n",
    "print(guests[0] + message)\n",
    "print(guests[1] + message)\n",
    "print(guests[2] + message)\n",
    "\n",
    "news = \", I found a bigger dinner table so I'll invite more people.\"\n",
    "print(\"\\n\")\n",
    "print(guests[0] + news)\n",
    "print(guests[1] + news)\n",
    "print(guests[2] + news)\n",
    "\n",
    "guests.insert(0,\"Grace\")\n",
    "guests.insert(2,\"Anita\")\n",
    "guests.append(\"Joy\")\n",
    "print(\"\\n\")\n",
    "print(guests[0] + message)\n",
    "print(guests[1] + message)\n",
    "print(guests[2] + message)\n",
    "print(guests[3] + message)\n",
    "print(guests[4] + message)\n",
    "print(guests[5] + message)\n",
    "\n",
    "badnews = \"Oh no! I'll only be able to invite two people for dinner. Sorry about that, \"\n",
    "print(\"\\n\")\n",
    "print(badnews + guests[0] + \".\")\n",
    "print(badnews + guests[1] + \".\")\n",
    "print(badnews + guests[2] + \".\")\n",
    "print(badnews + guests[3] + \".\")\n",
    "print(badnews + guests[4] + \".\")\n",
    "print(badnews + guests[5] + \".\")\n",
    "\n",
    "notinvite = \", sorry! You're not invited to dinner anymore.\"\n",
    "print(\"\\n\")\n",
    "print(guests[-1] + notinvite)\n",
    "newguests = guests.pop()\n",
    "print(guests[-1] + notinvite)\n",
    "newguests = guests.pop()\n",
    "print(guests[-1] + notinvite)\n",
    "newguests = guests.pop()\n",
    "print(guests[-1] + notinvite)\n",
    "newguests = guests.pop()\n",
    "\n",
    "print(\"\\n\")\n",
    "print(guests[0] + message)\n",
    "print(guests[1] + message)\n",
    "\n",
    "print(\"\\n\")\n",
    "del guests[-1]\n",
    "del guests[-1]\n",
    "print(guests)"
   ]
  },
  {
   "cell_type": "markdown",
   "id": "eae535eb",
   "metadata": {},
   "source": [
    "3.8:"
   ]
  },
  {
   "cell_type": "code",
   "execution_count": 74,
   "id": "27aa05eb",
   "metadata": {},
   "outputs": [
    {
     "name": "stdout",
     "output_type": "stream",
     "text": [
      "Original list:\n",
      "['Florence', 'Las Vegas', 'Bali', 'Beijing', 'Casablanca']\n",
      "\n",
      "\n",
      "Alphabetical order list:\n",
      "['Bali', 'Beijing', 'Casablanca', 'Florence', 'Las Vegas']\n",
      "\n",
      "\n",
      "Original list:\n",
      "['Florence', 'Las Vegas', 'Bali', 'Beijing', 'Casablanca']\n",
      "\n",
      "\n",
      "Reverse alphabetical order list:\n",
      "['Las Vegas', 'Florence', 'Casablanca', 'Beijing', 'Bali']\n",
      "\n",
      "\n",
      "Original list:\n",
      "['Florence', 'Las Vegas', 'Bali', 'Beijing', 'Casablanca']\n",
      "\n",
      "\n",
      "Order changed using reverse():\n",
      "['Casablanca', 'Beijing', 'Bali', 'Las Vegas', 'Florence']\n",
      "\n",
      "\n",
      "Original list using reverse():\n",
      "['Florence', 'Las Vegas', 'Bali', 'Beijing', 'Casablanca']\n",
      "\n",
      "\n",
      "Alphabetical order list using sort():\n",
      "['Bali', 'Beijing', 'Casablanca', 'Florence', 'Las Vegas']\n",
      "\n",
      "\n",
      "Reverse alphabetical order list using sort():\n",
      "['Las Vegas', 'Florence', 'Casablanca', 'Beijing', 'Bali']\n"
     ]
    }
   ],
   "source": [
    "cities = [\"Florence\",\"Las Vegas\",\"Bali\",\"Beijing\",\"Casablanca\"]\n",
    "print(\"Original list:\")\n",
    "print(cities)\n",
    "\n",
    "print(\"\\n\")\n",
    "print(\"Alphabetical order list:\")\n",
    "print(sorted(cities))\n",
    "\n",
    "print(\"\\n\")\n",
    "print(\"Original list:\")\n",
    "print(cities)\n",
    "\n",
    "print(\"\\n\")\n",
    "print(\"Reverse alphabetical order list:\")\n",
    "print(sorted(cities, reverse=True))\n",
    "\n",
    "print(\"\\n\")\n",
    "print(\"Original list:\")\n",
    "print(cities)\n",
    "\n",
    "print(\"\\n\")\n",
    "print(\"Order changed using reverse():\")\n",
    "cities.reverse()\n",
    "print(cities)\n",
    "\n",
    "print(\"\\n\")\n",
    "print(\"Original list using reverse():\")\n",
    "cities.reverse()\n",
    "print(cities)\n",
    "\n",
    "print(\"\\n\")\n",
    "print(\"Alphabetical order list using sort():\")\n",
    "cities.sort()\n",
    "print(cities)\n",
    "\n",
    "print(\"\\n\")\n",
    "print(\"Reverse alphabetical order list using sort():\")\n",
    "cities.sort(reverse=True)\n",
    "print(cities)"
   ]
  },
  {
   "cell_type": "markdown",
   "id": "57788ca9",
   "metadata": {},
   "source": [
    "# Chapter 4"
   ]
  },
  {
   "cell_type": "markdown",
   "id": "8f14bca2",
   "metadata": {},
   "source": [
    "4.1:"
   ]
  },
  {
   "cell_type": "code",
   "execution_count": 73,
   "id": "efc9d950",
   "metadata": {},
   "outputs": [
    {
     "name": "stdout",
     "output_type": "stream",
     "text": [
      "cheese\n",
      "pepperoni\n",
      "margherita\n",
      "\n",
      "\n",
      "My favorite kind of pizza is cheese!\n",
      "My favorite kind of pizza is pepperoni!\n",
      "My favorite kind of pizza is margherita!\n",
      "I really love pizza!\n"
     ]
    }
   ],
   "source": [
    "pizzas = [\"cheese\", \"pepperoni\", \"margherita\"]\n",
    "\n",
    "for pizza in pizzas:\n",
    "    print(pizza)\n",
    "    \n",
    "print(\"\\n\")\n",
    "statement = \"My favorite kind of pizza is \"\n",
    "for pizza in pizzas:\n",
    "    print(statement + pizza + \"!\")\n",
    "print(\"I really love pizza!\")"
   ]
  },
  {
   "cell_type": "markdown",
   "id": "762219f5",
   "metadata": {},
   "source": [
    "4.2:"
   ]
  },
  {
   "cell_type": "code",
   "execution_count": 80,
   "id": "fc9722a3",
   "metadata": {},
   "outputs": [
    {
     "name": "stdout",
     "output_type": "stream",
     "text": [
      "Monkeys\n",
      "Cows\n",
      "Dogs\n",
      "\n",
      "\n",
      "Monkeys are mammals!\n",
      "Cows are mammals!\n",
      "Dogs are mammals!\n",
      "These animals belong to the Mammalia Class.\n"
     ]
    }
   ],
   "source": [
    "animals = [\"Monkeys\", \"Cows\", \"Dogs\"]\n",
    "for animal in animals:\n",
    "    print(animal)\n",
    "    \n",
    "print(\"\\n\")\n",
    "statement = \" are mammals!\"\n",
    "for animal in animals:\n",
    "    print(animal + statement)\n",
    "print(\"These animals belong to the Mammalia Class.\")"
   ]
  },
  {
   "cell_type": "markdown",
   "id": "e4b51894",
   "metadata": {},
   "source": [
    "4.3"
   ]
  },
  {
   "cell_type": "code",
   "execution_count": 82,
   "id": "ced26dab",
   "metadata": {},
   "outputs": [
    {
     "name": "stdout",
     "output_type": "stream",
     "text": [
      "1\n",
      "2\n",
      "3\n",
      "4\n",
      "5\n",
      "6\n",
      "7\n",
      "8\n",
      "9\n",
      "10\n",
      "11\n",
      "12\n",
      "13\n",
      "14\n",
      "15\n",
      "16\n",
      "17\n",
      "18\n",
      "19\n",
      "20\n"
     ]
    }
   ],
   "source": [
    "for value in range(1,21):\n",
    "    print(value)"
   ]
  },
  {
   "cell_type": "markdown",
   "id": "16615460",
   "metadata": {},
   "source": [
    "4.6:"
   ]
  },
  {
   "cell_type": "code",
   "execution_count": 87,
   "id": "b62cda4d",
   "metadata": {},
   "outputs": [
    {
     "name": "stdout",
     "output_type": "stream",
     "text": [
      "1\n",
      "3\n",
      "5\n",
      "7\n",
      "9\n",
      "11\n",
      "13\n",
      "15\n",
      "17\n",
      "19\n"
     ]
    }
   ],
   "source": [
    "odd_numbers = list(range(1,21,2))\n",
    "\n",
    "for odd in odd_numbers:\n",
    "    print(odd)"
   ]
  },
  {
   "cell_type": "markdown",
   "id": "adfde24a",
   "metadata": {},
   "source": [
    "4.10:"
   ]
  },
  {
   "cell_type": "code",
   "execution_count": 92,
   "id": "e9c80ab0",
   "metadata": {},
   "outputs": [
    {
     "name": "stdout",
     "output_type": "stream",
     "text": [
      "The first three items in the list are: \n",
      "Cheese\n",
      "Pepperoni\n",
      "Margherita\n",
      "\n",
      "\n",
      "The three items from the middle of the list are: \n",
      "Pepperoni\n",
      "Margherita\n",
      "Buffalo Chicken\n",
      "\n",
      "\n",
      "The last three items in the list are: \n",
      "Margherita\n",
      "Buffalo Chicken\n",
      "Vegetarian\n"
     ]
    }
   ],
   "source": [
    "pizzas = [\"cheese\", \"pepperoni\", \"margherita\",\"buffalo chicken\",\"vegetarian\"]\n",
    "\n",
    "print(\"The first three items in the list are: \")\n",
    "for pizza in pizzas[:3]:\n",
    "    print(pizza.title())\n",
    "    \n",
    "print(\"\\n\")\n",
    "print(\"The three items from the middle of the list are: \")\n",
    "for pizza in pizzas[1:4]:\n",
    "    print(pizza.title())\n",
    "    \n",
    "print(\"\\n\")\n",
    "print(\"The last three items in the list are: \")\n",
    "for pizza in pizzas[2:]:\n",
    "    print(pizza.title())"
   ]
  },
  {
   "cell_type": "markdown",
   "id": "21fd189d",
   "metadata": {},
   "source": [
    "4.11:"
   ]
  },
  {
   "cell_type": "code",
   "execution_count": 96,
   "id": "9fda5755",
   "metadata": {},
   "outputs": [
    {
     "name": "stdout",
     "output_type": "stream",
     "text": [
      "My favorite pizzas are:\n",
      "cheese\n",
      "pepperoni\n",
      "margherita\n",
      "buffalo chicken\n",
      "\n",
      "\n",
      "My friend's favorite pizzas are:\n",
      "cheese\n",
      "pepperoni\n",
      "margherita\n",
      "vegetarian\n"
     ]
    }
   ],
   "source": [
    "pizzas = [\"cheese\", \"pepperoni\", \"margherita\"]\n",
    "friend_pizzas = pizzas[:]\n",
    "\n",
    "pizzas.append(\"buffalo chicken\")\n",
    "friend_pizzas.append(\"vegetarian\")\n",
    "\n",
    "print(\"My favorite pizzas are:\")\n",
    "for pizza in pizzas:\n",
    "    print(pizza)\n",
    "    \n",
    "print(\"\\n\")\n",
    "print(\"My friend's favorite pizzas are:\")\n",
    "for friend_pizza in friend_pizzas:\n",
    "      print(friend_pizza)"
   ]
  },
  {
   "cell_type": "code",
   "execution_count": null,
   "id": "1a9e01e8",
   "metadata": {},
   "outputs": [],
   "source": []
  }
 ],
 "metadata": {
  "kernelspec": {
   "display_name": "Python 3 (ipykernel)",
   "language": "python",
   "name": "python3"
  },
  "language_info": {
   "codemirror_mode": {
    "name": "ipython",
    "version": 3
   },
   "file_extension": ".py",
   "mimetype": "text/x-python",
   "name": "python",
   "nbconvert_exporter": "python",
   "pygments_lexer": "ipython3",
   "version": "3.11.4"
  }
 },
 "nbformat": 4,
 "nbformat_minor": 5
}
